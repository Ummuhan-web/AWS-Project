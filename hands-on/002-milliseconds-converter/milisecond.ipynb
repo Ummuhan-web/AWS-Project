{
 "cells": [
  {
   "cell_type": "code",
   "execution_count": 1,
   "metadata": {
    "tags": []
   },
   "outputs": [
    {
     "output_type": "stream",
     "name": "stdout",
     "text": "Hour/s:0.0, Minute/s:0, Second/s:2, Millisecond/s:2011\n"
    }
   ],
   "source": [
    "\n",
    "\n",
    "millis=input(\"Enter time in milliseconds \")\n",
    "\n",
    "millis = int(millis)\n",
    "if millis>0 and millis<1000:\n",
    "   millisecond=millis\n",
    "   print(f\"Millisecond/s:{millis}\")\n",
    "   \n",
    "\n",
    "elif millis>1000:   \n",
    "   seconds=(millis/1000)%60\n",
    "\n",
    "   seconds = round(int(seconds), 3)\n",
    "\n",
    "   minutes=(millis/(1000*60))%60\n",
    "\n",
    "   minutes = round(int(minutes), 0)\n",
    "\n",
    "   hours= round(( (millis/(1000*60*60))%24 ), 0)\n",
    "\n",
    "   #print(f\"Hours:{hours}, Minutes:{minutes}, Seconds:{seconds}\")\n",
    "\n",
    "result=f\"Hour/s:{hours}, Minute/s:{minutes}, Second/s:{seconds}, Millisecond/s:{millis}\"\n",
    "print(result)\n"
   ]
  },
  {
   "cell_type": "code",
   "execution_count": null,
   "metadata": {},
   "outputs": [],
   "source": []
  }
 ],
 "metadata": {
  "language_info": {
   "codemirror_mode": {
    "name": "ipython",
    "version": 3
   },
   "file_extension": ".py",
   "mimetype": "text/x-python",
   "name": "python",
   "nbconvert_exporter": "python",
   "pygments_lexer": "ipython3",
   "version": "3.7.1-final"
  },
  "orig_nbformat": 2,
  "kernelspec": {
   "name": "python3",
   "display_name": "Python 3"
  }
 },
 "nbformat": 4,
 "nbformat_minor": 2
}